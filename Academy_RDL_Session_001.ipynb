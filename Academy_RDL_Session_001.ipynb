{
 "cells": [
  {
   "attachments": {},
   "cell_type": "markdown",
   "metadata": {},
   "source": [
    "# Beginners's Guide to Python and the London Stock Exchange API"
   ]
  },
  {
   "cell_type": "markdown",
   "metadata": {},
   "source": [
    "## Python for Beginners\n",
    "\n",
    "[Python](https://www.python.org/doc/essays/blurb/) is an interpreted, object-oriented, high-level programming language with dynamic semantics. In order to be run on any one machine, it first has to be installed; you can download it [here](https://www.python.org/downloads/). For more info on Python, I'd strongly suggest watching [this YouTube video series](https://pythonprogramming.net/python-fundamental-tutorials/)."
   ]
  },
  {
   "cell_type": "markdown",
   "metadata": {},
   "source": [
    "### IDEs\n",
    "\n",
    "You may know a coding language like Python, but you need a medium through which you can send this code to the machine you want to run your code on, that medium is called an [Integrated Development Environment (IDE)](https://aws.amazon.com/what-is/ide/#:~:text=An%20integrated%20development%20environment%20(IDE,easy%2Dto%2Duse%20application.)). There are many out there, such as [VSCode](https://code.visualstudio.com/download); but I will use [Jupyter Lab](https://jupyterlab.readthedocs.io/en/stable/getting_started/installation.html), as it allows us to use Notebooks in which we write code 'cells' and text 'cells' next to each other, helping me explain what happens in each code cell. (FYI (For Your Information): I do not use [Anaconda](https://www.anaconda.com/), but you may chose to, it's up to you.)"
   ]
  },
  {
   "cell_type": "markdown",
   "metadata": {},
   "source": [
    "\n",
    "### Objects\n",
    "\n",
    "There are many programming languages out there. Some are similar to Python but are built with different use-cases in mind, e.g.(*exempli gratia*): [R](https://www.r-project.org/about.html) was made for mathematicians and statisticians in mind. Some are 'lower-level'; what's meant by this is that the code written in these languages are 'closer to the silicone', in that they instruct computer chips what to do in a more direct manner. These 'lower-level' languages such as [C](https://www.freecodecamp.org/news/what-is-the-c-programming-language-beginner-tutorial/), [C++](https://isocpp.org/get-started) or even [JAVA](https://www.java.com/en/download/help/whatis_java.html) tend to be harder to use. An example of dificulties that can be found in 'lower-level' languages and not in Python or R is 'momory management'; in Python, we can assign any object a value without having to tell the computer minute details about the object (e.g.: its anticipated memory size, its address in memory (such as RAM or [DiskDrive](https://en.wikipedia.org/wiki/Hard_disk_drive))), e.g.:"
   ]
  },
  {
   "cell_type": "code",
   "execution_count": 1,
   "metadata": {},
   "outputs": [],
   "source": [
    "a = 3"
   ]
  },
  {
   "cell_type": "markdown",
   "metadata": {},
   "source": [
    "you can find the address of any one python object:"
   ]
  },
  {
   "cell_type": "code",
   "execution_count": 2,
   "metadata": {},
   "outputs": [
    {
     "data": {
      "text/plain": [
       "'0x1740db80130'"
      ]
     },
     "execution_count": 2,
     "metadata": {},
     "output_type": "execute_result"
    }
   ],
   "source": [
    "hex(id(a))"
   ]
  },
  {
   "attachments": {},
   "cell_type": "markdown",
   "metadata": {},
   "source": [
    "### Types\n",
    "\n",
    "Here, in the code cell above, we informed our machine that we created an object called `a` and we assigned it the value `3`. With 'lower-level' languages, one would often also have to specify the type of value to be assigned to the object. In the example above, we assigned `a` with an **integer** (`int`). You can check the type of any object with the function `type`:"
   ]
  },
  {
   "cell_type": "code",
   "execution_count": 3,
   "metadata": {},
   "outputs": [
    {
     "data": {
      "text/plain": [
       "int"
      ]
     },
     "execution_count": 3,
     "metadata": {},
     "output_type": "execute_result"
    }
   ],
   "source": [
    "type(a)"
   ]
  },
  {
   "attachments": {},
   "cell_type": "markdown",
   "metadata": {},
   "source": [
    "There are many such types, ranging from floats"
   ]
  },
  {
   "cell_type": "code",
   "execution_count": 4,
   "metadata": {},
   "outputs": [
    {
     "data": {
      "text/plain": [
       "float"
      ]
     },
     "execution_count": 4,
     "metadata": {},
     "output_type": "execute_result"
    }
   ],
   "source": [
    "b = 1.0\n",
    "type(b)"
   ]
  },
  {
   "cell_type": "code",
   "execution_count": 5,
   "metadata": {},
   "outputs": [
    {
     "data": {
      "text/plain": [
       "float"
      ]
     },
     "execution_count": 5,
     "metadata": {},
     "output_type": "execute_result"
    }
   ],
   "source": [
    "c = 43.9\n",
    "type(c)"
   ]
  },
  {
   "attachments": {},
   "cell_type": "markdown",
   "metadata": {},
   "source": [
    "to lists"
   ]
  },
  {
   "cell_type": "code",
   "execution_count": 6,
   "metadata": {},
   "outputs": [
    {
     "data": {
      "text/plain": [
       "list"
      ]
     },
     "execution_count": 6,
     "metadata": {},
     "output_type": "execute_result"
    }
   ],
   "source": [
    "d = [1,2,3]\n",
    "type(d)"
   ]
  },
  {
   "cell_type": "markdown",
   "metadata": {},
   "source": [
    "and strings:"
   ]
  },
  {
   "cell_type": "code",
   "execution_count": 7,
   "metadata": {},
   "outputs": [],
   "source": [
    "e = \"Hello World\""
   ]
  },
  {
   "attachments": {},
   "cell_type": "markdown",
   "metadata": {},
   "source": [
    "But we cannot go through them all here. Sufice to say that there are many object types, and that creating them in Python is very easy.\n",
    "\n",
    "### Functions\n",
    "\n",
    "Once you have your objects, you can refer to them on their own, e.g.:"
   ]
  },
  {
   "cell_type": "markdown",
   "metadata": {},
   "source": []
  },
  {
   "cell_type": "code",
   "execution_count": 8,
   "metadata": {},
   "outputs": [
    {
     "data": {
      "text/plain": [
       "4.0"
      ]
     },
     "execution_count": 8,
     "metadata": {},
     "output_type": "execute_result"
    }
   ],
   "source": [
    "a + b"
   ]
  },
  {
   "cell_type": "code",
   "execution_count": 9,
   "metadata": {},
   "outputs": [
    {
     "data": {
      "text/plain": [
       "3.0"
      ]
     },
     "execution_count": 9,
     "metadata": {},
     "output_type": "execute_result"
    }
   ],
   "source": [
    "a * b"
   ]
  },
  {
   "cell_type": "code",
   "execution_count": 10,
   "metadata": {},
   "outputs": [
    {
     "data": {
      "text/plain": [
       "1.0"
      ]
     },
     "execution_count": 10,
     "metadata": {},
     "output_type": "execute_result"
    }
   ],
   "source": [
    "b ** a # b to the power of a"
   ]
  },
  {
   "attachments": {},
   "cell_type": "markdown",
   "metadata": {},
   "source": [
    "or in functions:"
   ]
  },
  {
   "cell_type": "code",
   "execution_count": 11,
   "metadata": {},
   "outputs": [
    {
     "data": {
      "text/plain": [
       "43"
      ]
     },
     "execution_count": 11,
     "metadata": {},
     "output_type": "execute_result"
    }
   ],
   "source": [
    "int(c)"
   ]
  },
  {
   "attachments": {},
   "cell_type": "markdown",
   "metadata": {},
   "source": [
    "Functions allow you to do an endless array of things. The cell directly above converted the type of object `c` from a float to an integer. Note that it allocates new memory for this act, as in: the object `c` did not change:"
   ]
  },
  {
   "cell_type": "code",
   "execution_count": 12,
   "metadata": {},
   "outputs": [
    {
     "data": {
      "text/plain": [
       "43.9"
      ]
     },
     "execution_count": 12,
     "metadata": {},
     "output_type": "execute_result"
    }
   ],
   "source": [
    "c"
   ]
  },
  {
   "cell_type": "code",
   "execution_count": 13,
   "metadata": {},
   "outputs": [
    {
     "data": {
      "text/plain": [
       "float"
      ]
     },
     "execution_count": 13,
     "metadata": {},
     "output_type": "execute_result"
    }
   ],
   "source": [
    "type(c)"
   ]
  },
  {
   "cell_type": "markdown",
   "metadata": {},
   "source": [
    "To change the object itself, you have to reassign it:"
   ]
  },
  {
   "cell_type": "code",
   "execution_count": 14,
   "metadata": {},
   "outputs": [
    {
     "data": {
      "text/plain": [
       "43"
      ]
     },
     "execution_count": 14,
     "metadata": {},
     "output_type": "execute_result"
    }
   ],
   "source": [
    "c = int(c)\n",
    "c"
   ]
  },
  {
   "cell_type": "markdown",
   "metadata": {},
   "source": [
    "You can also show objects with functions:"
   ]
  },
  {
   "cell_type": "code",
   "execution_count": 15,
   "metadata": {},
   "outputs": [
    {
     "name": "stdout",
     "output_type": "stream",
     "text": [
      "3\n",
      "<class 'float'>\n",
      "Hello World, hello\n"
     ]
    }
   ],
   "source": [
    "print(a)\n",
    "print(type(b))\n",
    "print(e + \", hello\")"
   ]
  },
  {
   "cell_type": "markdown",
   "metadata": {},
   "source": [
    "You can also create your own functions by defining them:"
   ]
  },
  {
   "cell_type": "code",
   "execution_count": 16,
   "metadata": {},
   "outputs": [],
   "source": [
    "def created_functn(x, y):\n",
    "    return x * y"
   ]
  },
  {
   "cell_type": "code",
   "execution_count": 17,
   "metadata": {},
   "outputs": [
    {
     "data": {
      "text/plain": [
       "30"
      ]
     },
     "execution_count": 17,
     "metadata": {},
     "output_type": "execute_result"
    }
   ],
   "source": [
    "created_functn(x=5, y=6)"
   ]
  },
  {
   "cell_type": "markdown",
   "metadata": {},
   "source": [
    "There are useful native functions in Python. A native function does not have to be defined, and it is already defined within Python. `type` is such a function, but one that will be useful are \"f-strings\""
   ]
  },
  {
   "cell_type": "code",
   "execution_count": 18,
   "metadata": {},
   "outputs": [
    {
     "name": "stdout",
     "output_type": "stream",
     "text": [
      "object a is of type <class 'int'> and has value 3\n"
     ]
    }
   ],
   "source": [
    "print(f\"object a is of type {type(a)} and has value {a}\")"
   ]
  },
  {
   "cell_type": "markdown",
   "metadata": {},
   "source": [
    "### Libraries\n",
    "\n",
    "However, we will not ask you to create all of the functions yoiu need. Let's say you want to import data from a csv (comma seperated value) file (i.e.: excel file); would you even know where to start? I wouldn't... Thankfully, there is an endless array of pre-built functions out there for you to use for free. You can [`pip install`](https://pip.pypa.io/en/stable/cli/pip_install/) them to your machine before importing them into your python environment:"
   ]
  },
  {
   "cell_type": "code",
   "execution_count": 19,
   "metadata": {},
   "outputs": [
    {
     "data": {
      "text/html": [
       "<div>\n",
       "<style scoped>\n",
       "    .dataframe tbody tr th:only-of-type {\n",
       "        vertical-align: middle;\n",
       "    }\n",
       "\n",
       "    .dataframe tbody tr th {\n",
       "        vertical-align: top;\n",
       "    }\n",
       "\n",
       "    .dataframe thead th {\n",
       "        text-align: right;\n",
       "    }\n",
       "</style>\n",
       "<table border=\"1\" class=\"dataframe\">\n",
       "  <thead>\n",
       "    <tr style=\"text-align: right;\">\n",
       "      <th></th>\n",
       "      <th>1</th>\n",
       "      <th>20</th>\n",
       "      <th>30</th>\n",
       "    </tr>\n",
       "  </thead>\n",
       "  <tbody>\n",
       "  </tbody>\n",
       "</table>\n",
       "</div>"
      ],
      "text/plain": [
       "Empty DataFrame\n",
       "Columns: [1, 20, 30]\n",
       "Index: []"
      ]
     },
     "execution_count": 19,
     "metadata": {},
     "output_type": "execute_result"
    }
   ],
   "source": [
    "# pip install pandas\n",
    "import pandas\n",
    "pandas.read_csv(\"data.csv\")"
   ]
  },
  {
   "cell_type": "markdown",
   "metadata": {},
   "source": [
    "Here, I imported a data-frame from my excel document named 'data.csv' that I put in the same location on my machine where I am runing this current Notebook. There was only 3 numbers in that data-frame, `1`, `20`, & `30`. One could create such a pandas dataframe (let's name it `df`) with the `pandas.DataFrame` function too:"
   ]
  },
  {
   "cell_type": "code",
   "execution_count": 20,
   "metadata": {},
   "outputs": [
    {
     "data": {
      "text/html": [
       "<div>\n",
       "<style scoped>\n",
       "    .dataframe tbody tr th:only-of-type {\n",
       "        vertical-align: middle;\n",
       "    }\n",
       "\n",
       "    .dataframe tbody tr th {\n",
       "        vertical-align: top;\n",
       "    }\n",
       "\n",
       "    .dataframe thead th {\n",
       "        text-align: right;\n",
       "    }\n",
       "</style>\n",
       "<table border=\"1\" class=\"dataframe\">\n",
       "  <thead>\n",
       "    <tr style=\"text-align: right;\">\n",
       "      <th></th>\n",
       "      <th>col1</th>\n",
       "      <th>col2</th>\n",
       "    </tr>\n",
       "  </thead>\n",
       "  <tbody>\n",
       "    <tr>\n",
       "      <th>0</th>\n",
       "      <td>1</td>\n",
       "      <td>3</td>\n",
       "    </tr>\n",
       "    <tr>\n",
       "      <th>1</th>\n",
       "      <td>2</td>\n",
       "      <td>4</td>\n",
       "    </tr>\n",
       "  </tbody>\n",
       "</table>\n",
       "</div>"
      ],
      "text/plain": [
       "   col1  col2\n",
       "0     1     3\n",
       "1     2     4"
      ]
     },
     "execution_count": 20,
     "metadata": {},
     "output_type": "execute_result"
    }
   ],
   "source": [
    "df1 = pandas.DataFrame(data={'col1': [1, 2], 'col2': [3, 4]})\n",
    "df1"
   ]
  },
  {
   "cell_type": "markdown",
   "metadata": {},
   "source": [
    "You may also want to abreviate the library name so that you don't have to write `pandas` every time:"
   ]
  },
  {
   "cell_type": "code",
   "execution_count": 21,
   "metadata": {},
   "outputs": [
    {
     "data": {
      "text/html": [
       "<div>\n",
       "<style scoped>\n",
       "    .dataframe tbody tr th:only-of-type {\n",
       "        vertical-align: middle;\n",
       "    }\n",
       "\n",
       "    .dataframe tbody tr th {\n",
       "        vertical-align: top;\n",
       "    }\n",
       "\n",
       "    .dataframe thead th {\n",
       "        text-align: right;\n",
       "    }\n",
       "</style>\n",
       "<table border=\"1\" class=\"dataframe\">\n",
       "  <thead>\n",
       "    <tr style=\"text-align: right;\">\n",
       "      <th></th>\n",
       "      <th>col1</th>\n",
       "      <th>col2</th>\n",
       "    </tr>\n",
       "  </thead>\n",
       "  <tbody>\n",
       "    <tr>\n",
       "      <th>0</th>\n",
       "      <td>5</td>\n",
       "      <td>7</td>\n",
       "    </tr>\n",
       "    <tr>\n",
       "      <th>1</th>\n",
       "      <td>6</td>\n",
       "      <td>8</td>\n",
       "    </tr>\n",
       "  </tbody>\n",
       "</table>\n",
       "</div>"
      ],
      "text/plain": [
       "   col1  col2\n",
       "0     5     7\n",
       "1     6     8"
      ]
     },
     "execution_count": 21,
     "metadata": {},
     "output_type": "execute_result"
    }
   ],
   "source": [
    "import pandas as pd\n",
    "df2 = pd.DataFrame(data={'col1': [5, 6], 'col2': [7, 8]})\n",
    "df2"
   ]
  },
  {
   "cell_type": "markdown",
   "metadata": {},
   "source": [
    "## [Refinitiv Data Library for Python](https://developers.refinitiv.com/en/api-catalog/refinitiv-data-platform/refinitiv-data-library-for-python)\n",
    "\n",
    "You can imagine working with much larger data-frames; and it may be dificult to create them in Excel (e.g.: due to their large memory). It is for this case (among many others) that we created [our financial Data Library]() that enables you to download ther data you may be after, directly in your Python environment."
   ]
  },
  {
   "cell_type": "code",
   "execution_count": 22,
   "metadata": {},
   "outputs": [
    {
     "name": "stdout",
     "output_type": "stream",
     "text": [
      "Here we are using the LSEG Data Library version 1.2.0\n"
     ]
    }
   ],
   "source": [
    "# pip install refinitiv-data\n",
    "import refinitiv.data as dl # `dl` for Data Library\n",
    "print(f\"Here we are using the LSEG Data Library version {dl.__version__}\")"
   ]
  },
  {
   "cell_type": "markdown",
   "metadata": {},
   "source": [
    "Our API landscape has changed a lot through the years. We are in the process of consolidating many of our APIs into one, so — or now — there are several, each with their own particularities and datasets. You can find all API-related details on the [Developer Portal](https://developers.refinitiv.com/en) and its [Q&A](https://community.developers.refinitiv.com/), but [here](https://developers.refinitiv.com/en/article-catalog/article/summary-of-common-lseg-refinitiv-apis) is a shallow dive into the Refinitiv Data Library's landscape:\n",
    "\n",
    "### Eikon Desktop App and Workspace Desktop App\n",
    "\n",
    "1st, a little refresh on the two ‘products’ (in the classical sense of the word) Refinitiv sells: (I) [Eikon Desktop App](https://www.refinitiv.com/en/products/eikon-trading-software?utm_content=TR%20Brand%20Product-UKI-EMEA-G-EN-BMM&utm_medium=cpc&utm_source=google&utm_campaign=596228_PaidSearchTradingandBankingBAU&elqCampaignId=16981&utm_term=%20+thomson%20+eikon&gclid=Cj0KCQjwguGYBhDRARIsAHgRm49_cPxx8gcyCZMFDms7U7culQF9nMF6qNjl5Aoy_INB2GFSyhy30BUaAuWzEALw_wcB&gclsrc=aw.ds&_ga=2.91796954.1111853358.1688972213-1243864833.1674474112) and (II) [Workspace Desktop App](https://www.refinitiv.com/en/products/refinitiv-workspace/download-workspace?_ga=2.91796954.1111853358.1688972213-1243864833.1674474112). Desktop apps differ from other applications in that they have to be downloaded and installed on your machine to work; one cannot, for example, access it on a web-page. They exist in contrast to their Web Apps; more on this below.\n",
    "\n",
    "I. Eikon Desktop App is a desktop application that only works on Windows. It is a [GUI](https://www.computerhope.com/jargon/g/gui.htm#:~:text=A%20GUI%20(graphical%20user%20interface)%20is%20a%20system%20of%20interactive,the%20user%20interacts%20with%20them.) that allows you to access many databases with buttons to click instead of lines of code one would have to write and run.\n",
    "\n",
    "II. Workspace Desktop App is basically Eikon Desktop App version 2. It is a desktop application that works on Windows and Mac. We are still in the process of onboarding all our datasets on that app, meaning that some (but few) datasets viewable on the Eikon Desktop App are not yet viewable on the Workspace Desktop App (e.g.: certain commodities landing pages that summarizes a lot of information in one place). On the other hand, we are also onboarding new datasets all the time, as per the nature of our company, and we tend to only make these new datasets viewable on the Workspace Desktop App, so as to not duplicate our work onboarding them on two apps.\n",
    "\n",
    "If you have a license that allows you to download and use the Eikon Desktop App, then by default your license will allow you access to the Workspace Desktop App too, and vice-versa. However, you may not have licenses to see all datasets available on either/both platforms (e.g.: you may not have a license with ‘real time data’ permissions, meaning that these datasets — and GUIs (e.g.: [graphs](https://www.youtube.com/watch?v=oC8aAk_ledc)) — will not show up on your App).\n",
    "\n",
    "N.B.: While some data providers are incorporated into our Apps and [APIs](https://www.mulesoft.com/resources/api/what-is-an-api), they might require you to pay them directly and get a license with them directly (e.g.: if you would like MSCI dataset access on Refinitiv Apps, you will need an MSCI license with MSCI separate from any Refinitiv license you may have).\n",
    "\n",
    "As per popular demand, we’ve made web versions of both of these desktop applications: Eikon Web and Workspace Web, both accessible via this [link](https://eikon.thomsonreuters.com/index.html), for which training can be found [here](https://my.refinitiv.com/content/mytr/en/policies/training-portal/refinitivworkspacenew/refinitivworkspacewebaccess.html?_ga=2.59282029.1111853358.1688972213-1243864833.1674474112). These are, by definition, not desktop applications, but web applications instead.\n",
    "\n",
    "Both Eikon and Workspace Apps have their own APIs, more on this below.\n",
    "\n",
    "You can find most of our datasets in our Workspace APIs — a.k.a.: Refinitiv Data (RD) libraries — be it with the [RD .Net](https://developers.refinitiv.com/en/api-catalog/refinitiv-data-platform/refinitiv-data-library-for--net), [RD TypeScript](https://developers.refinitiv.com/en/api-catalog/refinitiv-data-platform/refinitiv-data-library-for-python), or [RD Python](https://developers.refinitiv.com/en/api-catalog/refinitiv-data-platform/refinitiv-data-library-for-python) APIs or the [‘RefinitivR’ package](https://github.com/GreenGrassBlueOcean/RefinitivR). RD can only be used with one of two sessions called ‘desktop’ and ‘platform’. When using the desktop session, one needs to have either their Eikon Desktop App or their Workspace Desktop App running on the machine on which the API is being used; this is not required when using the platform session.\n",
    "\n",
    "a. When using the desktop session, the only credential needed to access Refinitiv datasets is your app key, information for which can be found [here](https://developers.refinitiv.com/en/api-catalog/eikon/eikon-data-api/quick-start); this is because the desktop app handles all other credentials to authenticate you to the Refinitiv system.\n",
    "\n",
    "b. When using the platform session, one needs their App Key and user login & password.\n",
    "\n",
    "More information on session handling in Python can be found [here](https://github.com/Refinitiv-API-Samples/Example.DataLibrary.Python/blob/main/Examples/4-Session/EX-4.01.01-Sessions.ipynb) (N.B.: more about the configuration file on the [Python RD Lib. Quickstart page](https://developers.refinitiv.com/en/api-catalog/refinitiv-data-platform/refinitiv-data-library-for-python/quick-start/getting-started-with-python) and in [this article](https://developers.refinitiv.com/en/article-catalog/article/configuration-process)).\n"
   ]
  },
  {
   "cell_type": "markdown",
   "metadata": {},
   "source": [
    "\n",
    "### How to use the RD Python Library\n",
    "When testing Python APIs, I’d advise doing so by finding fields for instruments of interest using the Data Item Browser (DIB) (for which a video training can be found [here](https://developers.refinitiv.com/en/video-catalog/data-item-browser)) and [CodeBook](https://www.refinitiv.com/content/dam/marketing/en_us/documents/fact-sheets/codebook.pdf?_ga=2.101439809.1111853358.1688972213-1243864833.1674474112) (for which a video tutorial can be found [here](https://developers.refinitiv.com/en/video-catalog/from-developer-articles-to-codebook)).\n",
    "\n",
    "If you want to use CodeBook, you will find useful examples shared today directly in the “Examples” section.\n",
    "\n",
    "<img src=\"https://developers.refinitiv.com/content/dam/devportal/articles/Summary-of-Common-LSEG-Refinitiv-APIs/aa.PNG.transform/resize-768/q82/image.PNG\">\n",
    "\n",
    "Please find below the first-step-instructions to access the Refinitiv Data API outside of CodeBook.\n",
    "\n",
    "Note that our python library is Cross OS (Windows, Linux, macOS, etc..) and available from [PyPi](https://pypi.org/project/refinitiv-data/).\n",
    "\n",
    "A quick overview of Refinitiv Data Library for python can be found [here](https://developers.refinitiv.com/en/api-catalog/refinitiv-data-platform/refinitiv-data-library-for-python).\n",
    "\n",
    "### Authentification via the Configuration File\n",
    "\n",
    "After installing Refinitiv Data Library, you can download some RDP samples [here](https://github.com/Refinitiv-API-Samples/Example.DataLibrary.Python) by selecting Code\\Download ZIP\n",
    "\n",
    "<img src=\"https://developers.refinitiv.com/content/dam/devportal/articles/Summary-of-Common-LSEG-Refinitiv-APIs/b.png\">\n",
    "\n",
    "Before running any of the tutorials, you must modify a configuration file — refinitiv-data.config.json located in the folder Configuration — depending on the access channel and connection parameters that you will use to connect to the Refinitiv Data Platform.\n",
    "\n",
    "This necessary configuration step is explained in the [Quick Start guide](https://developers.refinitiv.com/en/api-catalog/refinitiv-data-platform/refinitiv-data-library-for-python/quick-start). You can find more details on this cofig. file [here](https://developers.refinitiv.com/en/article-catalog/article/configuration-process)\n",
    "\n",
    "Note that the accompanying tutorials should be used in conjunction with the - Tutorials - and - Documentation - available on the Refinitiv Developer Portal\n",
    "\n",
    "Below is an example of configuration of — refinitiv-data.config.json to use either a platform session or a desktop session.\n",
    "\n",
    "<img src=\"https://developers.refinitiv.com/content/dam/devportal/articles/Summary-of-Common-LSEG-Refinitiv-APIs/c.png\">"
   ]
  },
  {
   "cell_type": "code",
   "execution_count": 24,
   "metadata": {},
   "outputs": [
    {
     "data": {
      "text/plain": [
       "<refinitiv.data.session.Definition object at 0x1744352a3b0 {name='workspace'}>"
      ]
     },
     "execution_count": 24,
     "metadata": {},
     "output_type": "execute_result"
    }
   ],
   "source": [
    "dl.open_session(  # the `open_session` function in the `dl` library allows us to authenticate ourselved to the LSEG services.\n",
    "    name=\"desktop.workspace\",  # Here we can choose 'desktop.workspace', 'rdp.platform' or any other name you may have given to your session details in your .json configuration file\n",
    "    config_name=\"C:/Example.DataLibrary.Python-main/Configuration/refinitiv-data.config.json\")  # This is the location of my config file on my machine."
   ]
  },
  {
   "cell_type": "markdown",
   "metadata": {},
   "source": [
    "### Using the LSEG Python API\n",
    "\n",
    "Now that we are authenticated to the LSEG systems, we can start getting data from LSEG dataframes. We can use the [`get_data`](https://github.com/Refinitiv-API-Samples/Example.DataLibrary.Python/blob/main/Examples/1-Access/EX-1.01.01-GetData.ipynb) function:"
   ]
  },
  {
   "cell_type": "code",
   "execution_count": 26,
   "metadata": {},
   "outputs": [
    {
     "data": {
      "text/html": [
       "<div>\n",
       "<style scoped>\n",
       "    .dataframe tbody tr th:only-of-type {\n",
       "        vertical-align: middle;\n",
       "    }\n",
       "\n",
       "    .dataframe tbody tr th {\n",
       "        vertical-align: top;\n",
       "    }\n",
       "\n",
       "    .dataframe thead th {\n",
       "        text-align: right;\n",
       "    }\n",
       "</style>\n",
       "<table border=\"1\" class=\"dataframe\">\n",
       "  <thead>\n",
       "    <tr style=\"text-align: right;\">\n",
       "      <th></th>\n",
       "      <th>Instrument</th>\n",
       "      <th>Date</th>\n",
       "      <th>Revenue</th>\n",
       "    </tr>\n",
       "  </thead>\n",
       "  <tbody>\n",
       "    <tr>\n",
       "      <th>0</th>\n",
       "      <td>LSEG.L</td>\n",
       "      <td>2022-12-31</td>\n",
       "      <td>7743000000</td>\n",
       "    </tr>\n",
       "    <tr>\n",
       "      <th>1</th>\n",
       "      <td>LSEG.L</td>\n",
       "      <td>2021-12-31</td>\n",
       "      <td>6535000000</td>\n",
       "    </tr>\n",
       "    <tr>\n",
       "      <th>2</th>\n",
       "      <td>LSEG.L</td>\n",
       "      <td>2020-12-31</td>\n",
       "      <td>2030000000</td>\n",
       "    </tr>\n",
       "    <tr>\n",
       "      <th>3</th>\n",
       "      <td>LSEG.L</td>\n",
       "      <td>2019-12-31</td>\n",
       "      <td>2314000000</td>\n",
       "    </tr>\n",
       "    <tr>\n",
       "      <th>4</th>\n",
       "      <td>VOD.L</td>\n",
       "      <td>2023-03-31</td>\n",
       "      <td>45706000000</td>\n",
       "    </tr>\n",
       "    <tr>\n",
       "      <th>5</th>\n",
       "      <td>VOD.L</td>\n",
       "      <td>2022-03-31</td>\n",
       "      <td>45580000000</td>\n",
       "    </tr>\n",
       "    <tr>\n",
       "      <th>6</th>\n",
       "      <td>VOD.L</td>\n",
       "      <td>2021-03-31</td>\n",
       "      <td>43809000000</td>\n",
       "    </tr>\n",
       "    <tr>\n",
       "      <th>7</th>\n",
       "      <td>VOD.L</td>\n",
       "      <td>2020-03-31</td>\n",
       "      <td>44974000000</td>\n",
       "    </tr>\n",
       "  </tbody>\n",
       "</table>\n",
       "</div>"
      ],
      "text/plain": [
       "  Instrument       Date      Revenue\n",
       "0     LSEG.L 2022-12-31   7743000000\n",
       "1     LSEG.L 2021-12-31   6535000000\n",
       "2     LSEG.L 2020-12-31   2030000000\n",
       "3     LSEG.L 2019-12-31   2314000000\n",
       "4      VOD.L 2023-03-31  45706000000\n",
       "5      VOD.L 2022-03-31  45580000000\n",
       "6      VOD.L 2021-03-31  43809000000\n",
       "7      VOD.L 2020-03-31  44974000000"
      ]
     },
     "execution_count": 26,
     "metadata": {},
     "output_type": "execute_result"
    }
   ],
   "source": [
    "df3 = dl.get_data(\n",
    "    universe=['LSEG.L', 'VOD.L'],\n",
    "    fields=['TR.Revenue(SDate=0, EDate=-3).date', 'TR.Revenue(SDate=0, EDate=-3)'])\n",
    "df3"
   ]
  },
  {
   "cell_type": "markdown",
   "metadata": {},
   "source": [
    "and the [`get_history`](https://github.com/Refinitiv-API-Samples/Example.DataLibrary.Python/blob/main/Examples/1-Access/EX-1.01.02-GetHistory.ipynb) function:"
   ]
  },
  {
   "cell_type": "code",
   "execution_count": 27,
   "metadata": {},
   "outputs": [
    {
     "data": {
      "text/html": [
       "<div>\n",
       "<style scoped>\n",
       "    .dataframe tbody tr th:only-of-type {\n",
       "        vertical-align: middle;\n",
       "    }\n",
       "\n",
       "    .dataframe tbody tr th {\n",
       "        vertical-align: top;\n",
       "    }\n",
       "\n",
       "    .dataframe thead th {\n",
       "        text-align: right;\n",
       "    }\n",
       "</style>\n",
       "<table border=\"1\" class=\"dataframe\">\n",
       "  <thead>\n",
       "    <tr style=\"text-align: right;\">\n",
       "      <th>LSEG.L</th>\n",
       "      <th>BID</th>\n",
       "      <th>ASK</th>\n",
       "      <th>Revenue</th>\n",
       "    </tr>\n",
       "    <tr>\n",
       "      <th>Date</th>\n",
       "      <th></th>\n",
       "      <th></th>\n",
       "      <th></th>\n",
       "    </tr>\n",
       "  </thead>\n",
       "  <tbody>\n",
       "    <tr>\n",
       "      <th>2014-12-31</th>\n",
       "      <td>&lt;NA&gt;</td>\n",
       "      <td>&lt;NA&gt;</td>\n",
       "      <td>957300000</td>\n",
       "    </tr>\n",
       "    <tr>\n",
       "      <th>2015-12-31</th>\n",
       "      <td>2742</td>\n",
       "      <td>2744</td>\n",
       "      <td>1418600000</td>\n",
       "    </tr>\n",
       "    <tr>\n",
       "      <th>2016-12-31</th>\n",
       "      <td>2873</td>\n",
       "      <td>2914</td>\n",
       "      <td>1657000000</td>\n",
       "    </tr>\n",
       "    <tr>\n",
       "      <th>2017-12-31</th>\n",
       "      <td>3786</td>\n",
       "      <td>3793</td>\n",
       "      <td>1955000000</td>\n",
       "    </tr>\n",
       "    <tr>\n",
       "      <th>2018-12-31</th>\n",
       "      <td>4060</td>\n",
       "      <td>4062</td>\n",
       "      <td>&lt;NA&gt;</td>\n",
       "    </tr>\n",
       "    <tr>\n",
       "      <th>2019-12-31</th>\n",
       "      <td>7722</td>\n",
       "      <td>7750</td>\n",
       "      <td>&lt;NA&gt;</td>\n",
       "    </tr>\n",
       "  </tbody>\n",
       "</table>\n",
       "</div>"
      ],
      "text/plain": [
       "LSEG.L       BID   ASK     Revenue\n",
       "Date                              \n",
       "2014-12-31  <NA>  <NA>   957300000\n",
       "2015-12-31  2742  2744  1418600000\n",
       "2016-12-31  2873  2914  1657000000\n",
       "2017-12-31  3786  3793  1955000000\n",
       "2018-12-31  4060  4062        <NA>\n",
       "2019-12-31  7722  7750        <NA>"
      ]
     },
     "execution_count": 27,
     "metadata": {},
     "output_type": "execute_result"
    }
   ],
   "source": [
    "df4 = dl.get_history(\n",
    "    universe='LSEG.L',\n",
    "    fields=[\"BID\", \"ASK\", \"TR.Revenue\"],\n",
    "    interval=\"1Y\",\n",
    "    start=\"2015-01-01\",\n",
    "    end=\"2019-10-01\")\n",
    "df4"
   ]
  },
  {
   "cell_type": "markdown",
   "metadata": {},
   "source": [
    "But how do you know how to use these functions? Are there more parameters in the `get_history` function in addition to `universe`, `fields`, `interval`, `start` and `end`? You will find great example uses on [GitHub](https://github.com/Refinitiv-API-Samples/Example.DataLibrary.Python/tree/main) and on [Articles](https://developers.refinitiv.com/en/article-catalog), but they are only a small set of possible use-cases and examples. That's where documentation comes into play! You can find the documentation [here](https://developers.refinitiv.com/en/api-catalog/refinitiv-data-platform/refinitiv-data-library-for-python/documentation), and also in the [docstrings](https://peps.python.org/pep-0257/) that you can find in this way:"
   ]
  },
  {
   "cell_type": "code",
   "execution_count": 29,
   "metadata": {},
   "outputs": [
    {
     "name": "stdout",
     "output_type": "stream",
     "text": [
      "Help on function get_history in module refinitiv.data._fin_coder_layer.get_history_func:\n",
      "\n",
      "get_history(universe: Union[str, Iterable[str]], fields: Union[str, Iterable[str], NoneType] = None, interval: Optional[str] = None, start: 'OptDateTime' = None, end: 'OptDateTime' = None, adjustments: Optional[str] = None, count: Optional[int] = None, use_field_names_in_headers: bool = False, parameters: Union[str, dict, NoneType] = None) -> pandas.core.frame.DataFrame\n",
      "    Retrieves the pricing history, as well as Fundamental and Reference data history.\n",
      "    \n",
      "    Parameters\n",
      "    ----------\n",
      "    universe: str | list\n",
      "        Instruments to request\n",
      "    fields: str | list, optional\n",
      "        Fields to request\n",
      "    interval: str, optional\n",
      "        Date interval. Supported intervals are:\n",
      "        tick, tas, taq, minute, 1min, 5min, 10min, 30min, 60min, hourly, 1h, daily,\n",
      "        1d, 1D, 7D, 7d, weekly, 1W, monthly, 1M, quarterly, 3M, 6M, yearly, 1Y\n",
      "    start: str or date or datetime or timedelta, optional\n",
      "        The start date and timestamp of the requested history\n",
      "    end: str or date or datetime or timedelta, optional\n",
      "        The end date and timestamp of the requested history\n",
      "    adjustments : str, optional\n",
      "        Tells the system whether to apply or not apply CORAX (Corporate Actions)\n",
      "        events or exchange/manual corrections or price and volume adjustment\n",
      "        according to trade/quote qualifier summarization actions to historical time\n",
      "        series data. Possible values are:\n",
      "        exchangeCorrection, manualCorrection, CCH, CRE, RTS, RPO, unadjusted,\n",
      "        qualifiers\n",
      "    count : int, optional\n",
      "        The maximum number of data points returned. Values range: 1 - 10000.\n",
      "        Applies only to pricing fields.\n",
      "    use_field_names_in_headers : bool, default False\n",
      "        If True - returns field name as column headers for data instead of title\n",
      "    parameters: str | dict, optional\n",
      "        Single global parameter key=value or dictionary\n",
      "        of global parameters to request.\n",
      "        Applies only to TR fields.\n",
      "    \n",
      "    Returns\n",
      "    -------\n",
      "    pandas.DataFrame\n",
      "    \n",
      "    Examples\n",
      "    --------\n",
      "    >>> get_history(universe=\"GOOG.O\")\n",
      "    >>> get_history(universe=\"GOOG.O\", fields=\"tr.Revenue\", interval=\"1Y\")\n",
      "    >>> get_history(\n",
      "    ...     universe=\"GOOG.O\",\n",
      "    ...     fields=[\"BID\", \"ASK\", \"tr.Revenue\"],\n",
      "    ...     interval=\"1Y\",\n",
      "    ...     start=\"2015-01-01\",\n",
      "    ...     end=\"2020-10-01\",\n",
      "    ... )\n",
      "\n"
     ]
    }
   ],
   "source": [
    "help(dl.get_history)  # You can also try `help(dl.get_data)` and most/all function sin Python in general."
   ]
  },
  {
   "cell_type": "markdown",
   "metadata": {},
   "source": [
    "### Where to go to figure out the available fields that I can access using the Refinitiv Data Libraries (such as the RD Python Library)?\n",
    "\n",
    "Now that you have access to the LSEG API functions in Python, how can you figure out what field names you can use? You can using Workspace to figure out available fields, as shown [here](https://developers.refinitiv.com/en/article-catalog/article/summary-of-common-lseg-refinitiv-apis), but I prefer using the [DIB](https://developers.refinitiv.com/en/video-catalog/data-item-browser):\n",
    "\n",
    "In DIB, I search ‘Vodafone’ for the instrument to request and ‘average daily value’ for the field. You get automatically a list of fields matching your request. In our case, the ADV — 5 days is equal to 16.117290\n",
    "\n",
    "<img src=\"https://developers.refinitiv.com/content/dam/devportal/articles/Summary-of-Common-LSEG-Refinitiv-APIs/e.png\">"
   ]
  }
 ],
 "metadata": {
  "kernelspec": {
   "display_name": "Python 3",
   "language": "python",
   "name": "python3"
  },
  "language_info": {
   "codemirror_mode": {
    "name": "ipython",
    "version": 3
   },
   "file_extension": ".py",
   "mimetype": "text/x-python",
   "name": "python",
   "nbconvert_exporter": "python",
   "pygments_lexer": "ipython3",
   "version": "3.10.5"
  },
  "orig_nbformat": 4
 },
 "nbformat": 4,
 "nbformat_minor": 2
}
